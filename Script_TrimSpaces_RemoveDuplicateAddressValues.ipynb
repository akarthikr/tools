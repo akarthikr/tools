{
    "metadata": {
        "kernelspec": {
            "name": "SQL",
            "display_name": "SQL",
            "language": "sql"
        },
        "language_info": {
            "name": "sql",
            "version": ""
        }
    },
    "nbformat_minor": 2,
    "nbformat": 4,
    "cells": [
        {
            "cell_type": "markdown",
            "source": [
                "**```\r\n",
                "Declare variables\r\n",
                "```**"
            ],
            "metadata": {
                "azdata_cell_guid": "3276d5ee-bb9d-44ef-a32f-68d7f209b955"
            }
        },
        {
            "cell_type": "code",
            "source": [
                "DECLARE @TGeocodes GeocodesType"
            ],
            "metadata": {
                "azdata_cell_guid": "e336eb86-692f-4bf2-9472-6a84966f12cc"
            },
            "outputs": [],
            "execution_count": null
        },
        {
            "cell_type": "markdown",
            "source": [
                "**```\r\n",
                "Step 1: Copy all the data from Geocodes table into a temp table\r\n",
                "```**"
            ],
            "metadata": {
                "azdata_cell_guid": "1ecf848a-0ab4-42a5-8ad0-aa4d6e1036a4"
            }
        },
        {
            "cell_type": "code",
            "source": [
                "select *\r\n",
                "into #tempGeocodes\r\n",
                "from Geocodes"
            ],
            "metadata": {
                "azdata_cell_guid": "e391ca90-0c65-4a4e-8b7e-0dea595c7c32",
                "tags": []
            },
            "outputs": [],
            "execution_count": null
        },
        {
            "cell_type": "markdown",
            "source": [
                "**```\r\n",
                "Step 2: Trim all spaces in the address column\r\n",
                "```**"
            ],
            "metadata": {
                "azdata_cell_guid": "3b58335e-6974-43fe-b003-81859fda99b2"
            }
        },
        {
            "cell_type": "code",
            "source": [
                "update #tempGeocodes\r\n",
                "set Address = REPLACE(Address, ' ', '')"
            ],
            "metadata": {
                "azdata_cell_guid": "a6977bfd-271a-483f-a4f7-f45f344bb512",
                "tags": [
                    "hide_input"
                ]
            },
            "outputs": [],
            "execution_count": null
        },
        {
            "cell_type": "markdown",
            "source": [
                "**```\r\n",
                "Step 3: Copy unique rows into a temp table and drop the previous temp table\r\n",
                "```**"
            ],
            "metadata": {
                "azdata_cell_guid": "8f93c62f-7629-4614-97a4-48e1208a9984"
            }
        },
        {
            "cell_type": "code",
            "source": [
                "WITH GCodes AS (\r\n",
                "    SELECT \r\n",
                "        *, ROW_NUMBER() OVER (PARTITION BY [Address] ORDER BY [Address]) as DuplicateCount\r\n",
                "    FROM #tempGeocodes\r\n",
                ")\r\n",
                "SELECT * \r\n",
                "INTO @TGeocodes\r\n",
                "FROM GCodes\r\n",
                "WHERE DuplicateCount = 1\r\n",
                "\r\n",
                "DROP TABLE #tempGeocodes"
            ],
            "metadata": {
                "azdata_cell_guid": "5e0931ea-a848-4252-a0b8-30e51af01e9f",
                "tags": []
            },
            "outputs": [],
            "execution_count": null
        },
        {
            "cell_type": "markdown",
            "source": [
                "**```\r\n",
                "Step 4: Truncate the target table\r\n",
                "```**"
            ],
            "metadata": {
                "azdata_cell_guid": "273c8772-3c82-4c9a-a0d9-edb0d4b99c70"
            }
        },
        {
            "cell_type": "code",
            "source": [
                "TRUNCATE TABLE Geocodes"
            ],
            "metadata": {
                "azdata_cell_guid": "2299b465-78ff-4090-b6b8-887d86834762"
            },
            "outputs": [],
            "execution_count": null
        },
        {
            "cell_type": "markdown",
            "source": [
                "**```\r\n",
                "Insert all the unique rows from the tempt table\r\n",
                "```**"
            ],
            "metadata": {
                "azdata_cell_guid": "e93db04f-8d96-4a33-8a7d-5db1ff006d1f"
            }
        },
        {
            "cell_type": "code",
            "source": [
                "INSERT INTO Geocodes\r\n",
                "SELECT [Address], Lat, Lon, LocationType, GeocodeType, CreateDate, LastUpdated\r\n",
                "FROM @TGeocodes WHERE DuplicateCount = 1"
            ],
            "metadata": {
                "azdata_cell_guid": "82d0ac49-c9d5-459d-a22e-9d3ecddaa7e9"
            },
            "outputs": [],
            "execution_count": null
        }
    ]
}